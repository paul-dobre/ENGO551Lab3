{
  "nbformat": 4,
  "nbformat_minor": 0,
  "metadata": {
    "colab": {
      "provenance": [],
      "authorship_tag": "ABX9TyN8GKKVA1tu4/mmNulh6NIh"
    },
    "kernelspec": {
      "name": "python3",
      "display_name": "Python 3"
    },
    "language_info": {
      "name": "python"
    }
  },
  "cells": [
    {
      "cell_type": "code",
      "execution_count": 3,
      "metadata": {
        "colab": {
          "base_uri": "https://localhost:8080/",
          "height": 160
        },
        "id": "DkOuTj9kWgGu",
        "outputId": "a554ceee-b2f9-4720-d44b-3db3a3a2b1da"
      },
      "outputs": [
        {
          "output_type": "display_data",
          "data": {
            "text/plain": [
              "<IPython.core.display.HTML object>"
            ],
            "text/html": [
              "\n",
              "     <input type=\"file\" id=\"files-c991aba4-4f5a-45fa-81ca-4fed0ed9e494\" name=\"files[]\" multiple disabled\n",
              "        style=\"border:none\" />\n",
              "     <output id=\"result-c991aba4-4f5a-45fa-81ca-4fed0ed9e494\">\n",
              "      Upload widget is only available when the cell has been executed in the\n",
              "      current browser session. Please rerun this cell to enable.\n",
              "      </output>\n",
              "      <script>// Copyright 2017 Google LLC\n",
              "//\n",
              "// Licensed under the Apache License, Version 2.0 (the \"License\");\n",
              "// you may not use this file except in compliance with the License.\n",
              "// You may obtain a copy of the License at\n",
              "//\n",
              "//      http://www.apache.org/licenses/LICENSE-2.0\n",
              "//\n",
              "// Unless required by applicable law or agreed to in writing, software\n",
              "// distributed under the License is distributed on an \"AS IS\" BASIS,\n",
              "// WITHOUT WARRANTIES OR CONDITIONS OF ANY KIND, either express or implied.\n",
              "// See the License for the specific language governing permissions and\n",
              "// limitations under the License.\n",
              "\n",
              "/**\n",
              " * @fileoverview Helpers for google.colab Python module.\n",
              " */\n",
              "(function(scope) {\n",
              "function span(text, styleAttributes = {}) {\n",
              "  const element = document.createElement('span');\n",
              "  element.textContent = text;\n",
              "  for (const key of Object.keys(styleAttributes)) {\n",
              "    element.style[key] = styleAttributes[key];\n",
              "  }\n",
              "  return element;\n",
              "}\n",
              "\n",
              "// Max number of bytes which will be uploaded at a time.\n",
              "const MAX_PAYLOAD_SIZE = 100 * 1024;\n",
              "\n",
              "function _uploadFiles(inputId, outputId) {\n",
              "  const steps = uploadFilesStep(inputId, outputId);\n",
              "  const outputElement = document.getElementById(outputId);\n",
              "  // Cache steps on the outputElement to make it available for the next call\n",
              "  // to uploadFilesContinue from Python.\n",
              "  outputElement.steps = steps;\n",
              "\n",
              "  return _uploadFilesContinue(outputId);\n",
              "}\n",
              "\n",
              "// This is roughly an async generator (not supported in the browser yet),\n",
              "// where there are multiple asynchronous steps and the Python side is going\n",
              "// to poll for completion of each step.\n",
              "// This uses a Promise to block the python side on completion of each step,\n",
              "// then passes the result of the previous step as the input to the next step.\n",
              "function _uploadFilesContinue(outputId) {\n",
              "  const outputElement = document.getElementById(outputId);\n",
              "  const steps = outputElement.steps;\n",
              "\n",
              "  const next = steps.next(outputElement.lastPromiseValue);\n",
              "  return Promise.resolve(next.value.promise).then((value) => {\n",
              "    // Cache the last promise value to make it available to the next\n",
              "    // step of the generator.\n",
              "    outputElement.lastPromiseValue = value;\n",
              "    return next.value.response;\n",
              "  });\n",
              "}\n",
              "\n",
              "/**\n",
              " * Generator function which is called between each async step of the upload\n",
              " * process.\n",
              " * @param {string} inputId Element ID of the input file picker element.\n",
              " * @param {string} outputId Element ID of the output display.\n",
              " * @return {!Iterable<!Object>} Iterable of next steps.\n",
              " */\n",
              "function* uploadFilesStep(inputId, outputId) {\n",
              "  const inputElement = document.getElementById(inputId);\n",
              "  inputElement.disabled = false;\n",
              "\n",
              "  const outputElement = document.getElementById(outputId);\n",
              "  outputElement.innerHTML = '';\n",
              "\n",
              "  const pickedPromise = new Promise((resolve) => {\n",
              "    inputElement.addEventListener('change', (e) => {\n",
              "      resolve(e.target.files);\n",
              "    });\n",
              "  });\n",
              "\n",
              "  const cancel = document.createElement('button');\n",
              "  inputElement.parentElement.appendChild(cancel);\n",
              "  cancel.textContent = 'Cancel upload';\n",
              "  const cancelPromise = new Promise((resolve) => {\n",
              "    cancel.onclick = () => {\n",
              "      resolve(null);\n",
              "    };\n",
              "  });\n",
              "\n",
              "  // Wait for the user to pick the files.\n",
              "  const files = yield {\n",
              "    promise: Promise.race([pickedPromise, cancelPromise]),\n",
              "    response: {\n",
              "      action: 'starting',\n",
              "    }\n",
              "  };\n",
              "\n",
              "  cancel.remove();\n",
              "\n",
              "  // Disable the input element since further picks are not allowed.\n",
              "  inputElement.disabled = true;\n",
              "\n",
              "  if (!files) {\n",
              "    return {\n",
              "      response: {\n",
              "        action: 'complete',\n",
              "      }\n",
              "    };\n",
              "  }\n",
              "\n",
              "  for (const file of files) {\n",
              "    const li = document.createElement('li');\n",
              "    li.append(span(file.name, {fontWeight: 'bold'}));\n",
              "    li.append(span(\n",
              "        `(${file.type || 'n/a'}) - ${file.size} bytes, ` +\n",
              "        `last modified: ${\n",
              "            file.lastModifiedDate ? file.lastModifiedDate.toLocaleDateString() :\n",
              "                                    'n/a'} - `));\n",
              "    const percent = span('0% done');\n",
              "    li.appendChild(percent);\n",
              "\n",
              "    outputElement.appendChild(li);\n",
              "\n",
              "    const fileDataPromise = new Promise((resolve) => {\n",
              "      const reader = new FileReader();\n",
              "      reader.onload = (e) => {\n",
              "        resolve(e.target.result);\n",
              "      };\n",
              "      reader.readAsArrayBuffer(file);\n",
              "    });\n",
              "    // Wait for the data to be ready.\n",
              "    let fileData = yield {\n",
              "      promise: fileDataPromise,\n",
              "      response: {\n",
              "        action: 'continue',\n",
              "      }\n",
              "    };\n",
              "\n",
              "    // Use a chunked sending to avoid message size limits. See b/62115660.\n",
              "    let position = 0;\n",
              "    do {\n",
              "      const length = Math.min(fileData.byteLength - position, MAX_PAYLOAD_SIZE);\n",
              "      const chunk = new Uint8Array(fileData, position, length);\n",
              "      position += length;\n",
              "\n",
              "      const base64 = btoa(String.fromCharCode.apply(null, chunk));\n",
              "      yield {\n",
              "        response: {\n",
              "          action: 'append',\n",
              "          file: file.name,\n",
              "          data: base64,\n",
              "        },\n",
              "      };\n",
              "\n",
              "      let percentDone = fileData.byteLength === 0 ?\n",
              "          100 :\n",
              "          Math.round((position / fileData.byteLength) * 100);\n",
              "      percent.textContent = `${percentDone}% done`;\n",
              "\n",
              "    } while (position < fileData.byteLength);\n",
              "  }\n",
              "\n",
              "  // All done.\n",
              "  yield {\n",
              "    response: {\n",
              "      action: 'complete',\n",
              "    }\n",
              "  };\n",
              "}\n",
              "\n",
              "scope.google = scope.google || {};\n",
              "scope.google.colab = scope.google.colab || {};\n",
              "scope.google.colab._files = {\n",
              "  _uploadFiles,\n",
              "  _uploadFilesContinue,\n",
              "};\n",
              "})(self);\n",
              "</script> "
            ]
          },
          "metadata": {}
        },
        {
          "output_type": "stream",
          "name": "stdout",
          "text": [
            "Saving kaggle.json to kaggle.json\n",
            "Dataset URL: https://www.kaggle.com/datasets/nvnikhil0001/sis-fall-original-dataset\n",
            "License(s): unknown\n",
            "sis-fall-original-dataset.zip: Skipping, found more recently modified local copy (use --force to force download)\n",
            "Archive:  /content/sis-fall-original-dataset.zip\n",
            "replace /content/sis-fall-original-dataset/SisFall_dataset/Readme.txt? [y]es, [n]o, [A]ll, [N]one, [r]ename: "
          ]
        }
      ],
      "source": [
        "\"\"\"\n",
        "Note: When running this cell it will prompt you to add a file named kaggle.json in order to proceed and download\n",
        "the dataset directly from kaggle. Just make a kaggle account, go to account settings, then click \"Create New Token\".\n",
        "It will download a file called kaggle.json which you will add to the prompt below. The dataset will then install.\n",
        "\"\"\"\n",
        "!pip install -q kaggle\n",
        "\n",
        "# Upload the kaggle.json file\n",
        "from google.colab import files\n",
        "files.upload()  # This will prompt you to upload your kaggle.json file\n",
        "\n",
        "# Move kaggle.json to the correct directory\n",
        "!mkdir -p ~/.kaggle\n",
        "!mv kaggle.json ~/.kaggle/\n",
        "!chmod 600 ~/.kaggle/kaggle.json  # Set permissions to secure the API key\n",
        "\n",
        "# Download the SisFall dataset using the Kaggle API\n",
        "!kaggle datasets download -d nvnikhil0001/sis-fall-original-dataset -p /content;\n",
        "\n",
        "# Unzip the dataset into a folder named 'sis-fall-original-dataset' in the Colab environment\n",
        "!unzip /content/sis-fall-original-dataset.zip -d /content/sis-fall-original-dataset;\n",
        "\n"
      ]
    },
    {
      "cell_type": "code",
      "source": [
        "#Contents of dataset\n",
        "!ls /content/sis-fall-original-dataset/SisFall_dataset/"
      ],
      "metadata": {
        "colab": {
          "base_uri": "https://localhost:8080/"
        },
        "id": "B8VaOqoCaSeG",
        "outputId": "f30202ee-53b4-4225-c7b0-90e39bdff867"
      },
      "execution_count": 40,
      "outputs": [
        {
          "output_type": "stream",
          "name": "stdout",
          "text": [
            "Readme.txt  SA04  SA08\tSA12  SA16  SA20  SE01\tSE05  SE09  SE13\n",
            "SA01\t    SA05  SA09\tSA13  SA17  SA21  SE02\tSE06  SE10  SE14\n",
            "SA02\t    SA06  SA10\tSA14  SA18  SA22  SE03\tSE07  SE11  SE15\n",
            "SA03\t    SA07  SA11\tSA15  SA19  SA23  SE04\tSE08  SE12  Supplementary.pdf\n"
          ]
        }
      ]
    },
    {
      "cell_type": "code",
      "source": [
        "import pandas as pd\n",
        "import numpy as np\n",
        "import matplotlib.pyplot as plt\n",
        "%matplotlib inline\n",
        "import seaborn as sns\n",
        "import tensorflow as tf\n",
        "import tensorflow.keras as keras\n",
        "import matplotlib.patches as patches\n",
        "import os"
      ],
      "metadata": {
        "id": "z17ZkwOAajun"
      },
      "execution_count": 41,
      "outputs": []
    },
    {
      "cell_type": "code",
      "source": [
        "#Path to dataset\n",
        "path = '/content/sis-fall-original-dataset/SisFall_dataset/'\n",
        "\n",
        "l = os.listdir(path)  #Get the list of all directories and files in the dataset\n",
        "l.sort()\n",
        "\n",
        "\n",
        "f = []  #List for paths starting with 'F'\n",
        "d = []  #List for paths starting with 'D'\n",
        "\n",
        "\n",
        "for sub_fol in l[1:39]:  #Range to exclude .txt and .pdf file\n",
        "    subfolder_path = os.path.join(path, sub_fol)  #Build the full path for the subfolder\n",
        "\n",
        "    #Check if the entry is a directory\n",
        "    if os.path.isdir(subfolder_path):\n",
        "        for sub_sub_fol in os.listdir(subfolder_path):  #List all files in the subfolder\n",
        "            path_ = os.path.join(subfolder_path, sub_sub_fol)  #Construct the full path\n",
        "            if sub_sub_fol.startswith('F'):  #Check if the file starts with 'F'\n",
        "                f.append(path_)  #Add to F list\n",
        "            elif sub_sub_fol.startswith('D'):  #Check if the file starts with 'D'\n",
        "                d.append(path_)  #Add to D list\n",
        "\n"
      ],
      "metadata": {
        "id": "YXVhwwzYbK54"
      },
      "execution_count": 42,
      "outputs": []
    },
    {
      "cell_type": "code",
      "source": [
        "l"
      ],
      "metadata": {
        "colab": {
          "base_uri": "https://localhost:8080/"
        },
        "id": "UzYNx44pbqBx",
        "outputId": "7790987f-0d39-4112-bc61-8f836f56c316"
      },
      "execution_count": 43,
      "outputs": [
        {
          "output_type": "execute_result",
          "data": {
            "text/plain": [
              "['Readme.txt',\n",
              " 'SA01',\n",
              " 'SA02',\n",
              " 'SA03',\n",
              " 'SA04',\n",
              " 'SA05',\n",
              " 'SA06',\n",
              " 'SA07',\n",
              " 'SA08',\n",
              " 'SA09',\n",
              " 'SA10',\n",
              " 'SA11',\n",
              " 'SA12',\n",
              " 'SA13',\n",
              " 'SA14',\n",
              " 'SA15',\n",
              " 'SA16',\n",
              " 'SA17',\n",
              " 'SA18',\n",
              " 'SA19',\n",
              " 'SA20',\n",
              " 'SA21',\n",
              " 'SA22',\n",
              " 'SA23',\n",
              " 'SE01',\n",
              " 'SE02',\n",
              " 'SE03',\n",
              " 'SE04',\n",
              " 'SE05',\n",
              " 'SE06',\n",
              " 'SE07',\n",
              " 'SE08',\n",
              " 'SE09',\n",
              " 'SE10',\n",
              " 'SE11',\n",
              " 'SE12',\n",
              " 'SE13',\n",
              " 'SE14',\n",
              " 'SE15',\n",
              " 'Supplementary.pdf']"
            ]
          },
          "metadata": {},
          "execution_count": 43
        }
      ]
    },
    {
      "cell_type": "code",
      "source": [
        "print(len(f))\n",
        "print(len(d))"
      ],
      "metadata": {
        "colab": {
          "base_uri": "https://localhost:8080/"
        },
        "id": "H_JLr2MJeAsG",
        "outputId": "343bc8a3-1b2a-4c64-bc18-d65e3f66d0bd"
      },
      "execution_count": 37,
      "outputs": [
        {
          "output_type": "stream",
          "name": "stdout",
          "text": [
            "1798\n",
            "2707\n"
          ]
        }
      ]
    },
    {
      "cell_type": "code",
      "source": [
        "#This takes substantial time to run\n",
        "df = pd.DataFrame(columns=['Column1', 'Column2', 'Column3', 'Column4', 'Column5', 'Column6', 'Column7', 'Column8', 'Column9', 'Column10'])\n",
        "for p in range(len(f)):\n",
        "    with open(f[p],'r') as file:\n",
        "        r = file.read()\n",
        "    r = r.replace(' ','')\n",
        "    r = r.split(';\\n')\n",
        "    r = [i.split(',') for i in r]\n",
        "    to_drop_ind = []\n",
        "    for i in range(len(r)):\n",
        "        if(r[i] == ['']):\n",
        "            to_drop_ind.append(i)\n",
        "    c = 0\n",
        "    for i in to_drop_ind:\n",
        "        r.pop(i-c)\n",
        "        c+=1\n",
        "    r = [[int(i) for i in j] for j in r]\n",
        "    for i in range(len(r)):\n",
        "        r[i].append(1)\n",
        "    import pandas as pd\n",
        "    new_df = pd.DataFrame(r, columns=df.columns)\n",
        "    df = pd.concat([df, new_df], ignore_index=True)\n",
        "    if(p%10==0):\n",
        "        print(f\"Epoch : {p}\")"
      ],
      "metadata": {
        "colab": {
          "base_uri": "https://localhost:8080/",
          "height": 790
        },
        "id": "FP7b0OaherjE",
        "outputId": "099ae58b-7238-4584-d4dc-acd7453838c5"
      },
      "execution_count": 39,
      "outputs": [
        {
          "output_type": "stream",
          "name": "stdout",
          "text": [
            "Epoch : 0\n",
            "Epoch : 10\n",
            "Epoch : 20\n",
            "Epoch : 30\n",
            "Epoch : 40\n",
            "Epoch : 50\n",
            "Epoch : 60\n",
            "Epoch : 70\n",
            "Epoch : 80\n",
            "Epoch : 90\n",
            "Epoch : 100\n",
            "Epoch : 110\n",
            "Epoch : 120\n",
            "Epoch : 130\n",
            "Epoch : 140\n",
            "Epoch : 150\n",
            "Epoch : 160\n",
            "Epoch : 170\n",
            "Epoch : 180\n",
            "Epoch : 190\n",
            "Epoch : 200\n",
            "Epoch : 210\n",
            "Epoch : 220\n",
            "Epoch : 230\n",
            "Epoch : 240\n"
          ]
        },
        {
          "output_type": "error",
          "ename": "KeyboardInterrupt",
          "evalue": "",
          "traceback": [
            "\u001b[0;31m---------------------------------------------------------------------------\u001b[0m",
            "\u001b[0;31mKeyboardInterrupt\u001b[0m                         Traceback (most recent call last)",
            "\u001b[0;32m<ipython-input-39-10b14ffd822d>\u001b[0m in \u001b[0;36m<cell line: 3>\u001b[0;34m()\u001b[0m\n\u001b[1;32m     20\u001b[0m     \u001b[0;32mimport\u001b[0m \u001b[0mpandas\u001b[0m \u001b[0;32mas\u001b[0m \u001b[0mpd\u001b[0m\u001b[0;34m\u001b[0m\u001b[0;34m\u001b[0m\u001b[0m\n\u001b[1;32m     21\u001b[0m     \u001b[0mnew_df\u001b[0m \u001b[0;34m=\u001b[0m \u001b[0mpd\u001b[0m\u001b[0;34m.\u001b[0m\u001b[0mDataFrame\u001b[0m\u001b[0;34m(\u001b[0m\u001b[0mr\u001b[0m\u001b[0;34m,\u001b[0m \u001b[0mcolumns\u001b[0m\u001b[0;34m=\u001b[0m\u001b[0mdf\u001b[0m\u001b[0;34m.\u001b[0m\u001b[0mcolumns\u001b[0m\u001b[0;34m)\u001b[0m\u001b[0;34m\u001b[0m\u001b[0;34m\u001b[0m\u001b[0m\n\u001b[0;32m---> 22\u001b[0;31m     \u001b[0mdf\u001b[0m \u001b[0;34m=\u001b[0m \u001b[0mpd\u001b[0m\u001b[0;34m.\u001b[0m\u001b[0mconcat\u001b[0m\u001b[0;34m(\u001b[0m\u001b[0;34m[\u001b[0m\u001b[0mdf\u001b[0m\u001b[0;34m,\u001b[0m \u001b[0mnew_df\u001b[0m\u001b[0;34m]\u001b[0m\u001b[0;34m,\u001b[0m \u001b[0mignore_index\u001b[0m\u001b[0;34m=\u001b[0m\u001b[0;32mTrue\u001b[0m\u001b[0;34m)\u001b[0m\u001b[0;34m\u001b[0m\u001b[0;34m\u001b[0m\u001b[0m\n\u001b[0m\u001b[1;32m     23\u001b[0m     \u001b[0;32mif\u001b[0m\u001b[0;34m(\u001b[0m\u001b[0mp\u001b[0m\u001b[0;34m%\u001b[0m\u001b[0;36m10\u001b[0m\u001b[0;34m==\u001b[0m\u001b[0;36m0\u001b[0m\u001b[0;34m)\u001b[0m\u001b[0;34m:\u001b[0m\u001b[0;34m\u001b[0m\u001b[0;34m\u001b[0m\u001b[0m\n\u001b[1;32m     24\u001b[0m         \u001b[0mprint\u001b[0m\u001b[0;34m(\u001b[0m\u001b[0;34mf\"Epoch : {p}\"\u001b[0m\u001b[0;34m)\u001b[0m\u001b[0;34m\u001b[0m\u001b[0;34m\u001b[0m\u001b[0m\n",
            "\u001b[0;32m/usr/local/lib/python3.10/dist-packages/pandas/core/reshape/concat.py\u001b[0m in \u001b[0;36mconcat\u001b[0;34m(objs, axis, join, ignore_index, keys, levels, names, verify_integrity, sort, copy)\u001b[0m\n\u001b[1;32m    393\u001b[0m     )\n\u001b[1;32m    394\u001b[0m \u001b[0;34m\u001b[0m\u001b[0m\n\u001b[0;32m--> 395\u001b[0;31m     \u001b[0;32mreturn\u001b[0m \u001b[0mop\u001b[0m\u001b[0;34m.\u001b[0m\u001b[0mget_result\u001b[0m\u001b[0;34m(\u001b[0m\u001b[0;34m)\u001b[0m\u001b[0;34m\u001b[0m\u001b[0;34m\u001b[0m\u001b[0m\n\u001b[0m\u001b[1;32m    396\u001b[0m \u001b[0;34m\u001b[0m\u001b[0m\n\u001b[1;32m    397\u001b[0m \u001b[0;34m\u001b[0m\u001b[0m\n",
            "\u001b[0;32m/usr/local/lib/python3.10/dist-packages/pandas/core/reshape/concat.py\u001b[0m in \u001b[0;36mget_result\u001b[0;34m(self)\u001b[0m\n\u001b[1;32m    682\u001b[0m                 \u001b[0mmgrs_indexers\u001b[0m\u001b[0;34m.\u001b[0m\u001b[0mappend\u001b[0m\u001b[0;34m(\u001b[0m\u001b[0;34m(\u001b[0m\u001b[0mobj\u001b[0m\u001b[0;34m.\u001b[0m\u001b[0m_mgr\u001b[0m\u001b[0;34m,\u001b[0m \u001b[0mindexers\u001b[0m\u001b[0;34m)\u001b[0m\u001b[0;34m)\u001b[0m\u001b[0;34m\u001b[0m\u001b[0;34m\u001b[0m\u001b[0m\n\u001b[1;32m    683\u001b[0m \u001b[0;34m\u001b[0m\u001b[0m\n\u001b[0;32m--> 684\u001b[0;31m             new_data = concatenate_managers(\n\u001b[0m\u001b[1;32m    685\u001b[0m                 \u001b[0mmgrs_indexers\u001b[0m\u001b[0;34m,\u001b[0m \u001b[0mself\u001b[0m\u001b[0;34m.\u001b[0m\u001b[0mnew_axes\u001b[0m\u001b[0;34m,\u001b[0m \u001b[0mconcat_axis\u001b[0m\u001b[0;34m=\u001b[0m\u001b[0mself\u001b[0m\u001b[0;34m.\u001b[0m\u001b[0mbm_axis\u001b[0m\u001b[0;34m,\u001b[0m \u001b[0mcopy\u001b[0m\u001b[0;34m=\u001b[0m\u001b[0mself\u001b[0m\u001b[0;34m.\u001b[0m\u001b[0mcopy\u001b[0m\u001b[0;34m\u001b[0m\u001b[0;34m\u001b[0m\u001b[0m\n\u001b[1;32m    686\u001b[0m             )\n",
            "\u001b[0;32m/usr/local/lib/python3.10/dist-packages/pandas/core/internals/concat.py\u001b[0m in \u001b[0;36mconcatenate_managers\u001b[0;34m(mgrs_indexers, axes, concat_axis, copy)\u001b[0m\n\u001b[1;32m    175\u001b[0m                 \u001b[0;31m# expected \"Union[_SupportsArray[dtype[Any]],\u001b[0m\u001b[0;34m\u001b[0m\u001b[0;34m\u001b[0m\u001b[0m\n\u001b[1;32m    176\u001b[0m                 \u001b[0;31m# _NestedSequence[_SupportsArray[dtype[Any]]]]\"\u001b[0m\u001b[0;34m\u001b[0m\u001b[0;34m\u001b[0m\u001b[0m\n\u001b[0;32m--> 177\u001b[0;31m                 \u001b[0mvalues\u001b[0m \u001b[0;34m=\u001b[0m \u001b[0mnp\u001b[0m\u001b[0;34m.\u001b[0m\u001b[0mconcatenate\u001b[0m\u001b[0;34m(\u001b[0m\u001b[0mvals\u001b[0m\u001b[0;34m,\u001b[0m \u001b[0maxis\u001b[0m\u001b[0;34m=\u001b[0m\u001b[0;36m1\u001b[0m\u001b[0;34m)\u001b[0m  \u001b[0;31m# type: ignore[arg-type]\u001b[0m\u001b[0;34m\u001b[0m\u001b[0;34m\u001b[0m\u001b[0m\n\u001b[0m\u001b[1;32m    178\u001b[0m             \u001b[0;32melif\u001b[0m \u001b[0mis_1d_only_ea_dtype\u001b[0m\u001b[0;34m(\u001b[0m\u001b[0mblk\u001b[0m\u001b[0;34m.\u001b[0m\u001b[0mdtype\u001b[0m\u001b[0;34m)\u001b[0m\u001b[0;34m:\u001b[0m\u001b[0;34m\u001b[0m\u001b[0;34m\u001b[0m\u001b[0m\n\u001b[1;32m    179\u001b[0m                 \u001b[0;31m# TODO(EA2D): special-casing not needed with 2D EAs\u001b[0m\u001b[0;34m\u001b[0m\u001b[0;34m\u001b[0m\u001b[0m\n",
            "\u001b[0;31mKeyboardInterrupt\u001b[0m: "
          ]
        }
      ]
    },
    {
      "cell_type": "code",
      "source": [
        "df.shape"
      ],
      "metadata": {
        "colab": {
          "base_uri": "https://localhost:8080/"
        },
        "id": "yo45CSiFfO0I",
        "outputId": "023b5007-79c7-4d95-9019-7d415ab5d25b"
      },
      "execution_count": 34,
      "outputs": [
        {
          "output_type": "stream",
          "name": "stdout",
          "text": [
            "[]\n"
          ]
        }
      ]
    },
    {
      "cell_type": "code",
      "source": [
        "#This takes substantial time to run\n",
        "for p in range(len(d)):\n",
        "    with open(d[p],'r') as file:\n",
        "        r = file.read()\n",
        "    r = r.replace(' ','')\n",
        "    r = r.split(';\\n')\n",
        "    r = [i.split(',') for i in r]\n",
        "    to_drop_ind = []\n",
        "    for i in range(len(r)):\n",
        "        if(r[i] == ['']):\n",
        "            to_drop_ind.append(i)\n",
        "    c = 0\n",
        "    for i in to_drop_ind:\n",
        "        r.pop(i-c)\n",
        "        c+=1\n",
        "    r = [[int(i) for i in j] for j in r]\n",
        "    for i in range(len(r)):\n",
        "        r[i].append(0)\n",
        "    import pandas as pd\n",
        "    new_df = pd.DataFrame(r, columns=df.columns)\n",
        "    df = pd.concat([df, new_df], ignore_index=True)\n",
        "    if(p%10==0):\n",
        "        print(f\"Epoch : {p}\")\n",
        "    if(p==1798):\n",
        "        break"
      ],
      "metadata": {
        "id": "L2-GAQP6g8Mf"
      },
      "execution_count": null,
      "outputs": []
    },
    {
      "cell_type": "code",
      "source": [
        "df.shape()"
      ],
      "metadata": {
        "id": "_5WRtYnchDjO"
      },
      "execution_count": null,
      "outputs": []
    },
    {
      "cell_type": "code",
      "source": [
        "df.head()"
      ],
      "metadata": {
        "id": "LaSesvobhK-B"
      },
      "execution_count": null,
      "outputs": []
    }
  ]
}